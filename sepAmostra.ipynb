{
 "cells": [
  {
   "cell_type": "code",
   "execution_count": 10,
   "metadata": {},
   "outputs": [],
   "source": [
    "import pandas as pd\r\n",
    "import os"
   ]
  },
  {
   "cell_type": "code",
   "execution_count": 27,
   "metadata": {},
   "outputs": [],
   "source": [
    "def sepAmostra(pathRaw, pathToSave, randomState=None, nSample=10000):\r\n",
    "    os.makedirs(getPath(pathToSave), exist_ok=True)\r\n",
    "\r\n",
    "    df = pd.read_csv(pathRaw)\r\n",
    "    df = df.sample(n=nSample, random_state=randomState)\r\n",
    "    df.to_csv(pathToSave)\r\n",
    "    del df"
   ]
  },
  {
   "cell_type": "code",
   "execution_count": 28,
   "metadata": {},
   "outputs": [],
   "source": [
    "def getPath(path):\r\n",
    "    pth = path.split(\"/\")\r\n",
    "    pth = pth[:-1]\r\n",
    "    pth = \"/\".join(pth)\r\n",
    "    return pth"
   ]
  },
  {
   "cell_type": "code",
   "execution_count": 29,
   "metadata": {},
   "outputs": [
    {
     "name": "stderr",
     "output_type": "stream",
     "text": [
      "C:\\Users\\Renan\\AppData\\Local\\Programs\\Python\\Python38\\lib\\site-packages\\IPython\\core\\interactiveshell.py:3263: DtypeWarning: Columns (0,19,49,59,118,129,130,131,134,135,136,139,145,146,147) have mixed types.Specify dtype option on import or set low_memory=False.\n",
      "  if (await self.run_code(code, result,  async_=asy)):\n"
     ]
    }
   ],
   "source": [
    "if __name__ == \"__main__\":\r\n",
    "    sepAmostra(pathRaw=\"data/raw/accepted_2007_to_2018Q4.csv\", pathToSave=\"data/sample/sampleAccepted.csv\", nSample=10000, randomState=0)\r\n",
    "    sepAmostra(pathRaw=\"data/raw/rejected_2007_to_2018Q4.csv\", pathToSave=\"data/sample/sampleRejected.csv\", nSample=10000, randomState=0)"
   ]
  }
 ],
 "metadata": {
  "interpreter": {
   "hash": "28419c31780562def9a152d929746b465d0e2a100b5f6fc71845e0263b206921"
  },
  "kernelspec": {
   "display_name": "Python 3.8.8 64-bit",
   "name": "python3"
  },
  "language_info": {
   "codemirror_mode": {
    "name": "ipython",
    "version": 3
   },
   "file_extension": ".py",
   "mimetype": "text/x-python",
   "name": "python",
   "nbconvert_exporter": "python",
   "pygments_lexer": "ipython3",
   "version": "3.8.8"
  },
  "orig_nbformat": 4
 },
 "nbformat": 4,
 "nbformat_minor": 2
}