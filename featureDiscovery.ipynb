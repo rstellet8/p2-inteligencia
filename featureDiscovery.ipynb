{
 "cells": [
  {
   "cell_type": "code",
   "execution_count": null,
   "metadata": {},
   "outputs": [],
   "source": [
    "import numpy as np\r\n",
    "import pandas as pd"
   ]
  },
  {
   "cell_type": "markdown",
   "metadata": {},
   "source": [
    "# Carregamento dos dados "
   ]
  },
  {
   "cell_type": "code",
   "execution_count": null,
   "metadata": {},
   "outputs": [],
   "source": [
    "df1 = pd.read_csv(\"data/sample/sampleAccepted.csv\")\r\n",
    "df1 = df1.drop(columns=[\"member_id\", \"url\"])\r\n",
    "df1.info(verbose=True, null_counts=True)"
   ]
  },
  {
   "cell_type": "markdown",
   "metadata": {},
   "source": [
    "# Seleção das variáveis\r\n",
    "\r\n",
    "Não serão usadas todas as variáveis disponíveis.\r\n",
    "\r\n",
    "Manualmente selecionamos algumas variáveis que consideramos mais relevantes."
   ]
  },
  {
   "cell_type": "code",
   "execution_count": null,
   "metadata": {},
   "outputs": [],
   "source": [
    "features = df1.loc[:, [\r\n",
    "    \"term\", # Número de pagamentos pagamentos no plano\r\n",
    "    \"annual_inc\", # Renda Anual\r\n",
    "    \"annual_inc_joint\", # Renda anual conjunta se o empréstimo é conjunto\r\n",
    "    \"emp_length\", # Tempo no emprego\r\n",
    "    \"issue_d\", # data do empréstimo, para comparar com a taxa de juros básica\r\n",
    "    \"purpose\", # objetivo\r\n",
    "    \"dti\", # Debt-to-income <https://www.investopedia.com/terms/d/dti.asp>\r\n",
    "    \"delinq_2yrs\", # 'faltas' no pagamento nos últimos 2 anos\r\n",
    "    \"open_acc\", # Número de linhas de crédito abertas no histórico do cliente\r\n",
    "    \"open_il_12m\", # Número de contas de prestação abertas nos últimos 12m\r\n",
    "    \"open_rv_12m\", # Número de contas de crédtio rotativo abertas nos últimos 12m\r\n",
    "    \"pub_rec\", # Number of derogatory public records\r\n",
    "    \"revol_util\", # Fração do crédito giratório disponível sendo usado\r\n",
    "    \"chargeoff_within_12_mths\", # número de declarações de 'improvável pagar' nos últimos 12m\r\n",
    "    \"mort_acc\", # número de hipotecas\r\n",
    "    \"num_accts_ever_120_pd\", # número de contas que já foram atrasadas a mais de 120 dias\r\n",
    "    \"num_tl_120dpd_2m\", # número de contas atualmente atrasadas mais de 120 dias(atualizadas nos últimos 2 meses)\r\n",
    "    \"num_tl_30dpd\", # Número de contas atualemente atrasadas mais de 30 dias\r\n",
    "    \"percent_bc_gt_75\", # fração de contas acima de 75% do limite\r\n",
    "    ]]\r\n",
    "\r\n",
    "features.head()"
   ]
  },
  {
   "cell_type": "markdown",
   "metadata": {},
   "source": [
    "# Limpeza dos dados\r\n",
    "\r\n",
    "Diversos dados estão em formatos não apropriados ou devem ser transformados em outras variáveis.\r\n",
    "\r\n",
    "Por motivos de performance e legibilidade geralmente será criada uma função e usada o método apply do pandas.\r\n",
    "\r\n",
    "## Formatando *Term*\r\n",
    "\r\n",
    "A coluna Term veio em formato de texto, porém é mais apropriado que seja um número inteiro."
   ]
  },
  {
   "cell_type": "code",
   "execution_count": null,
   "metadata": {},
   "outputs": [],
   "source": [
    "def formatTerm(line):\r\n",
    "    line = line.strip()\r\n",
    "    line = line.split(\" \")\r\n",
    "\r\n",
    "    if line[-1] == \"months\":\r\n",
    "        line = int(line[0])/12\r\n",
    "\r\n",
    "    else:\r\n",
    "        raise NotImplementedError(f\"{line[-1]} não implementado ainda\")\r\n",
    "\r\n",
    "    return line\r\n",
    "\r\n",
    "features[\"term\"] = features[\"term\"].apply(formatTerm)"
   ]
  },
  {
   "cell_type": "markdown",
   "metadata": {},
   "source": [
    "## Dummyficação de OWNERSHIP\r\n",
    "\r\n",
    "A coluna OWNERSHIP será transformada em dummies.\r\n",
    "\r\n",
    "O valor OWN será descartado para evitar multicolinearidade perfeita."
   ]
  },
  {
   "cell_type": "code",
   "execution_count": null,
   "metadata": {},
   "outputs": [],
   "source": [
    "features = features.join(pd.get_dummies(df1[\"home_ownership\"]))\r\n",
    "features = features.drop(columns=\"OWN\")\r\n",
    "\r\n",
    "ownership = [\"ANY\", \"MORTGAGE\", \"NONE\", \"OTHER\", \"RENT\"]"
   ]
  },
  {
   "cell_type": "markdown",
   "metadata": {},
   "source": [
    "## Adaptação de *EmpLength*\r\n",
    "\r\n",
    "Da coluna *EmpLength* queremos saber apenas se o indivíduo está no trabalho a mais de um ano."
   ]
  },
  {
   "cell_type": "code",
   "execution_count": null,
   "metadata": {},
   "outputs": [],
   "source": [
    "def formatEmpLength(line):\r\n",
    "    \"\"\" Testa se o indivíduo está a mais de dois anos no trabalho atual \"\"\"\r\n",
    "    Accept = [\"3 years\", \"2 years\", \"8 years\", \"10+ years\", \"4 years\", \"6 years\", \"5 years\", \"9 years\", \"7 years\"]\r\n",
    "    NotAccept = [\"1 year\", \"< 1 year\", np.nan]\r\n",
    "\r\n",
    "    if line in Accept:\r\n",
    "        return 1\r\n",
    "    elif line in NotAccept:\r\n",
    "        return 0\r\n",
    "    else:\r\n",
    "        raise NotImplementedError(f\"{line} não implementado ainda na função cleanEmpLength\")\r\n",
    "\r\n",
    "features[\"emp_length\"] = features[\"emp_length\"].apply(formatEmpLength)\r\n",
    "features = features.rename(columns={\"emp_length\": \"long_job\"})"
   ]
  },
  {
   "cell_type": "markdown",
   "metadata": {},
   "source": [
    "## Dummyficação de *purpose*\r\n",
    "\r\n",
    "A coluna será transformada em três outras variáveis:\r\n",
    "\r\n",
    "1. GoodPurpose: se o uso original é: 'small_business', 'renewable_energy', 'home_improvement', 'major_purchase', 'moving', 'house' ou 'car'\r\n",
    "\r\n",
    "2. BadPurpose: se o uso original é: 'debt_consolidation', 'credit_card' ou 'medical'\r\n",
    "\r\n",
    "3. NeutralPurpose: se o uso original é: 'other', 'vacation' ou 'wedding'"
   ]
  },
  {
   "cell_type": "code",
   "execution_count": null,
   "metadata": {},
   "outputs": [],
   "source": [
    "def toIntPurpose(line):\r\n",
    "    goodList = [\"small_business\", \"renewable_energy\", \"home_improvement\", \"major_purchase\", \"moving\", \"house\", \"car\"]\r\n",
    "    badList = [\"debt_consolidation\", \"credit_card\", \"medical\"]\r\n",
    "    neutralList = [\"other\", \"vacation\", \"wedding\"]\r\n",
    "\r\n",
    "    if line in goodList:\r\n",
    "        return 1\r\n",
    "\r\n",
    "    elif line in badList:\r\n",
    "        return -1\r\n",
    "\r\n",
    "    elif line in neutralList:\r\n",
    "        return 0\r\n",
    "\r\n",
    "    else:\r\n",
    "        raise NotImplementedError(f\"Purpose {line} não está em nenhuma categoria\")\r\n",
    "\r\n",
    "features = features.join(\r\n",
    "    pd.get_dummies(\r\n",
    "    features[\"purpose\"]\r\n",
    "    .apply(toIntPurpose))\r\n",
    "    .rename(columns={\r\n",
    "        -1: \"BadPurpose\",\r\n",
    "        0: \"NeutralPurpose\",\r\n",
    "        1: \"GoodPurpose\"\r\n",
    "        })\r\n",
    "    )\r\n",
    "\r\n",
    "features = features.drop(columns=\"purpose\")"
   ]
  },
  {
   "cell_type": "markdown",
   "metadata": {},
   "source": [
    "## Formatação de *JointIncome*"
   ]
  },
  {
   "cell_type": "code",
   "execution_count": null,
   "metadata": {},
   "outputs": [],
   "source": [
    "def formatJointIncome(line):\r\n",
    "    if np.nan_to_num(line) == 0:\r\n",
    "        return 0\r\n",
    "    \r\n",
    "    else:\r\n",
    "        return float(line)\r\n",
    "\r\n",
    "features[\"annual_inc_joint\"] = features[\"annual_inc_joint\"].apply(formatJointIncome).apply(np.nan_to_num)"
   ]
  },
  {
   "cell_type": "markdown",
   "metadata": {},
   "source": [
    "## Formatação da data da operação\r\n",
    "\r\n",
    "Além da formatação da data serão incluidos dados sobre a taxa de juros corrente e a inflação(CPI) dos últimos doze meses."
   ]
  },
  {
   "cell_type": "code",
   "execution_count": null,
   "metadata": {},
   "outputs": [],
   "source": [
    "from getCPI import getCPI\r\n",
    "from getIntRate import getIntRate\r\n",
    "\r\n",
    "cpi = getCPI()\r\n",
    "intRate = getIntRate()\r\n",
    "\r\n",
    "extInf = pd.merge(left=cpi, right=intRate, left_on=\"date\", right_on=\"date\")\r\n",
    "features[\"issue_d\"] = pd.to_datetime(features[\"issue_d\"])\r\n",
    "features = pd.merge(left=features, right=extInf, left_on=\"issue_d\", right_on=\"date\")\r\n",
    "features = features.drop(columns=[\"date\", \"issue_d\"])"
   ]
  },
  {
   "cell_type": "markdown",
   "metadata": {},
   "source": [
    "## Formatação de *delinq_2yrs*\r\n",
    "\r\n",
    "A coluna representa o número de 'faltas' nos pagamentos dos últimos dois anos e será transformada em uma variável binária.\r\n",
    "\r\n",
    "A coluna assumirá o valor de:\r\n",
    "\r\n",
    "- 0, se seu valor original for 0\r\n",
    "- 1, caso contrário\r\n"
   ]
  },
  {
   "cell_type": "code",
   "execution_count": null,
   "metadata": {},
   "outputs": [],
   "source": [
    "def formatDelinq(line):\r\n",
    "    if line == 0:\r\n",
    "        return 0\r\n",
    "\r\n",
    "    elif line >= 0:\r\n",
    "        return 1\r\n",
    "    \r\n",
    "    else:\r\n",
    "        raise NotImplementedError(f\"Valor inválido: {line}\")\r\n",
    "\r\n",
    "features[\"delinq_2yrs\"] = features[\"delinq_2yrs\"].apply(formatDelinq)\r\n",
    "features = features.rename(columns={\"delinq_2yrs\": \"delinq\"})"
   ]
  },
  {
   "cell_type": "markdown",
   "metadata": {},
   "source": [
    "## Formatação de *open_acc*, *open_il_12m*, *open_rv_12m* e *mort_acc*\r\n",
    "\r\n",
    "A coluna *open_acc* será transformada na coluna *recent* de acordo com a seguinte regra:\r\n",
    "    1, se igual 1 ou 2\r\n",
    "    0, caso contrário\r\n",
    "\r\n",
    "Essa transformação deve capturar se o cliente é novo ou antigo.\r\n",
    "\r\n",
    "As colunas *open_il_12m*, *open_rv_12m* e *mort_acc* serão somadas se o valor for maior que 2, o cliente receberá a dummy *multiplasContas*."
   ]
  },
  {
   "cell_type": "code",
   "execution_count": null,
   "metadata": {},
   "outputs": [],
   "source": [
    "def formatOpenAcc(line):\r\n",
    "    if line in [1, 2]:\r\n",
    "        return 1\r\n",
    "\r\n",
    "    elif line > 2:\r\n",
    "        return 0\r\n",
    "    \r\n",
    "    else:\r\n",
    "        raise NotImplementedError(f\"Valor inválido para OpenAcc: {line}\")\r\n",
    "\r\n",
    "features[\"recent\"] = features[\"open_acc\"].apply(formatOpenAcc)\r\n",
    "features = features.drop(columns=\"open_acc\")\r\n",
    "\r\n",
    "def formatSecondOpenAcc(line):\r\n",
    "    if line >= 2:\r\n",
    "        return 1\r\n",
    "    \r\n",
    "    elif line >= 0 and line < 2:\r\n",
    "        return 0\r\n",
    "    \r\n",
    "    elif np.nan_to_num(line, nan=-1) == -1:\r\n",
    "        return np.NaN\r\n",
    "\r\n",
    "    else:\r\n",
    "        raise NotImplementedError(f\"Número de contas abertas inválidas, valor que causou o erro: {line}\")\r\n",
    "\r\n",
    "openAcc = features[\"open_il_12m\"] + features[\"open_rv_12m\"] + features[\"mort_acc\"]\r\n",
    "features[\"multiplasContas\"] = openAcc.apply(formatSecondOpenAcc)\r\n",
    "features = features.drop(columns=[\"open_il_12m\", \"open_rv_12m\", \"mort_acc\"])"
   ]
  },
  {
   "cell_type": "markdown",
   "metadata": {},
   "source": [
    "## Formatação de *pub_rec*\r\n",
    "\r\n",
    "Se o valor for maior que zero, o indivíduo receberá a dummy *bad_rec*"
   ]
  },
  {
   "cell_type": "code",
   "execution_count": null,
   "metadata": {},
   "outputs": [],
   "source": [
    "def formatPubRec(line):\r\n",
    "    if line >= 1:\r\n",
    "        return 1\r\n",
    "    \r\n",
    "    elif line == 0:\r\n",
    "        return 0\r\n",
    "    \r\n",
    "    else:\r\n",
    "        raise NotImplementedError(f\"Entrada inválida em PubRec, valor que causou o erro: {line}\")\r\n",
    "\r\n",
    "features[\"bad_rec\"] = features[\"pub_rec\"].apply(formatPubRec)\r\n",
    "features = features.drop(columns=\"pub_rec\")"
   ]
  },
  {
   "cell_type": "markdown",
   "metadata": {},
   "source": [
    "## Formatação de *revol_util* e *percent_bc_gt_75*\r\n",
    "\r\n",
    "Se o indivíduo tem *revol_util* maior que 30% ou *percent_bc_gt_75* = 1, o indivíduo receberá a dummy *almostBroken\r\n",
    "*"
   ]
  },
  {
   "cell_type": "code",
   "execution_count": null,
   "metadata": {},
   "outputs": [],
   "source": [
    "def formatRevolUtil(line):\r\n",
    "    if line >= 30:\r\n",
    "        return 1\r\n",
    "\r\n",
    "    elif line < 30:\r\n",
    "        return 0\r\n",
    "\r\n",
    "    elif np.nan_to_num(line, nan=-1) == -1:\r\n",
    "        return np.NaN\r\n",
    "\r\n",
    "    else:\r\n",
    "        raise NotImplementedError(f\"Entrada inválida em revol_util, valor que causou o erro: {line}\")\r\n",
    "\r\n",
    "features[\"badRevolUtil\"] = features[\"revol_util\"].apply(formatRevolUtil)\r\n",
    "\r\n",
    "def almostBadCard(line):\r\n",
    "    if line > 0:\r\n",
    "        return 1\r\n",
    "    \r\n",
    "    elif line == 0:\r\n",
    "        return 0\r\n",
    "    \r\n",
    "    elif np.nan_to_num(line, nan=-1) == -1:\r\n",
    "        return np.NaN\r\n",
    "\r\n",
    "    else:\r\n",
    "        raise ValueError(f\"valor inválido na coluna percent_bc_gt_75, valor que causou o erro: {line}\")\r\n",
    "\r\n",
    "features[\"percent_bc_gt_75\"] = features[\"percent_bc_gt_75\"].apply(almostBadCard)\r\n",
    "\r\n",
    "almostBroke = features[\"percent_bc_gt_75\"] + features[\"badRevolUtil\"]\r\n",
    "\r\n",
    "def formatAlmostBroke(line):\r\n",
    "    if line >= 1:\r\n",
    "        return 1\r\n",
    "\r\n",
    "    elif line == 0:\r\n",
    "        return 0\r\n",
    "\r\n",
    "    elif np.nan_to_num(line, nan=-1) == -1:\r\n",
    "        return np.NaN\r\n",
    "\r\n",
    "    else:\r\n",
    "        raise NotImplementedError(f\"Entrada inválida em almostBroke, valor que causou o erro: {line}\")\r\n",
    "\r\n",
    "features = features.drop(columns=[\"revol_util\", \"percent_bc_gt_75\", \"badRevolUtil\"])\r\n",
    "\r\n",
    "features[\"almostBroken\"] = almostBroke.apply(formatAlmostBroke)"
   ]
  },
  {
   "cell_type": "markdown",
   "metadata": {},
   "source": [
    "## Formatação de *chargeoff_within_12_mths*\r\n",
    "\r\n",
    "Se o indivíduo tiver valor diferente de 0 nessa variável, ele receberá a dummy *chargeOff*"
   ]
  },
  {
   "cell_type": "code",
   "execution_count": null,
   "metadata": {},
   "outputs": [],
   "source": [
    "def formatChargeOff(line):\r\n",
    "    if line > 0:\r\n",
    "        return 1\r\n",
    "    \r\n",
    "    elif line == 0:\r\n",
    "        return 0\r\n",
    "    \r\n",
    "    else:\r\n",
    "        raise NotImplementedError(f\"Entrada inválida em chargeoff_within_12_mths, valor que causou o erro: {line}\")\r\n",
    "\r\n",
    "features[\"chargeOff\"] = features[\"chargeoff_within_12_mths\"].apply(formatChargeOff)\r\n",
    "features = features.drop(columns=\"chargeoff_within_12_mths\")"
   ]
  },
  {
   "cell_type": "markdown",
   "metadata": {},
   "source": [
    "## Formatação de *num_accts_ever_120_pd*, *num_tl_120dpd_2m* e *num_tl_30dpd*\r\n",
    "\r\n",
    "Os valores dessas colunas serão somados e se maiores que 1 o indivíduo receberá a dummy *overDue*, que captará se o indivíduo tem histórico de atrasar contas."
   ]
  },
  {
   "cell_type": "code",
   "execution_count": null,
   "metadata": {},
   "outputs": [],
   "source": [
    "overDue = features[\"num_accts_ever_120_pd\"] + features[\"num_tl_120dpd_2m\"] + features[\"num_tl_30dpd\"]\r\n",
    "features = features.drop(columns=[\"num_accts_ever_120_pd\", \"num_tl_120dpd_2m\", \"num_tl_30dpd\"])\r\n",
    "\r\n",
    "def formatOverDue(line):\r\n",
    "    if line > 0:\r\n",
    "        return 1\r\n",
    "    \r\n",
    "    elif line == 0:\r\n",
    "        return 0\r\n",
    "    \r\n",
    "    elif np.nan_to_num(line, nan=-1) == -1:\r\n",
    "        return np.NaN\r\n",
    "\r\n",
    "    else:\r\n",
    "        raise ValueError(f\"Entrada inválida em uma das seguintes colunas = [num_accts_ever_120_pd, num_tl_120dpd_2m, num_tl_30dpd], \\\r\n",
    "            Valor que causou o erro: {line}\")\r\n",
    "\r\n",
    "features[\"overDue\"] = overDue.apply(formatOverDue)"
   ]
  },
  {
   "cell_type": "code",
   "execution_count": null,
   "metadata": {},
   "outputs": [],
   "source": [
    "features.info()"
   ]
  },
  {
   "cell_type": "markdown",
   "metadata": {},
   "source": [
    "## Formatação das variáveis alvo"
   ]
  },
  {
   "cell_type": "code",
   "execution_count": null,
   "metadata": {},
   "outputs": [],
   "source": [
    "target = df1.loc[:, [\"int_rate\", \"grade\", \"loan_status\"]]\r\n",
    "target.head()"
   ]
  },
  {
   "cell_type": "code",
   "execution_count": null,
   "metadata": {},
   "outputs": [],
   "source": [
    "maskGradeToNum = {\r\n",
    "    \"A\": 1,\r\n",
    "    \"B\": 2,\r\n",
    "    \"C\": 3,\r\n",
    "    \"D\": 4,\r\n",
    "    \"E\": 5,\r\n",
    "    \"G\": 6,\r\n",
    "}\r\n",
    "\r\n",
    "target[\"grade\"] = target[\"grade\"].map(maskGradeToNum)"
   ]
  },
  {
   "cell_type": "code",
   "execution_count": null,
   "metadata": {},
   "outputs": [],
   "source": [
    "maskLoanStatus = {\r\n",
    "    \"Late (31-120 days)\": 1,\r\n",
    "    \"Late (16-30 days)\": 1,\r\n",
    "    \"Charged Off\": -1,\r\n",
    "    \"Does not meet the credit policy. Status:Charged Off\": -1,\r\n",
    "    \"Fully Paid\": 0,\r\n",
    "    \"Does not meet the credit policy. Status:Fully Paid\": 0,\r\n",
    "    \"Current\": 2,\r\n",
    "    \"In Grace Period\": 2\r\n",
    "}\r\n",
    "\r\n",
    "target[\"loan_status\"] = target[\"loan_status\"].map(maskLoanStatus)"
   ]
  },
  {
   "cell_type": "code",
   "execution_count": null,
   "metadata": {},
   "outputs": [],
   "source": [
    "tarDummy = pd.get_dummies(target[\"loan_status\"])\r\n",
    "tarDummy = tarDummy.rename(\r\n",
    "    columns={\r\n",
    "        -1: \"chargedOff\",\r\n",
    "        0: \"paid\",\r\n",
    "        1: \"late\",\r\n",
    "        2: \"current\"\r\n",
    "    })\r\n",
    "\r\n",
    "target = target.join(tarDummy)\r\n",
    "target = target.drop(columns=\"loan_status\")\r\n",
    "\r\n",
    "target[\"prob\"] = target[\"chargedOff\"] + target[\"late\"]\r\n",
    "target.head()"
   ]
  },
  {
   "cell_type": "markdown",
   "metadata": {},
   "source": [
    "Portanto, as variáveis alvo serão:\r\n",
    "\r\n",
    "1. *int_rate*: taxa de juros usada no crédito;\r\n",
    "2. *grade*: nota de risco do crédito;\r\n",
    "3. *chargedOff*, *paid*, *late*, *current*: estado do crédito;\r\n",
    "4. *prob*: se o cliente atrasou ou não pagou o empréstimo"
   ]
  },
  {
   "cell_type": "code",
   "execution_count": null,
   "metadata": {},
   "outputs": [],
   "source": [
    "df = target.join(features)"
   ]
  },
  {
   "cell_type": "markdown",
   "metadata": {},
   "source": [
    "# Limpeza Final dos Dados\r\n",
    "\r\n",
    "Agora serão retirados os dados que apresentam alta correlação entre si, já que esses basicamente carregam as mesmas informações"
   ]
  },
  {
   "cell_type": "code",
   "execution_count": null,
   "metadata": {},
   "outputs": [],
   "source": [
    "import seaborn as sns\r\n",
    "import matplotlib.pyplot as plt\r\n",
    "\r\n",
    "plt.figure(figsize=(10, 10))\r\n",
    "sns.heatmap(df.corr())\r\n",
    "plt.show()"
   ]
  },
  {
   "cell_type": "markdown",
   "metadata": {},
   "source": [
    "Como as variáveis *multiplasContas* apresenta alta correlação com *None* e *Other*. Esta será excluída.\r\n",
    "\r\n",
    "*cpi* apresenta alta correlação com *BasicIntRate*. Portanto, também será retirada.\r\n",
    "\r\n",
    "Como as variáveis *BadPurpose*, *NeutralPurpose* e *GoodPurpose* são mutuamente excludentes então *NeutralPurpose* será excluída"
   ]
  },
  {
   "cell_type": "code",
   "execution_count": null,
   "metadata": {},
   "outputs": [],
   "source": [
    "df = df.drop(columns=[\"multiplasContas\", \"cpi\", \"NeutralPurpose\"])"
   ]
  }
 ],
 "metadata": {
  "interpreter": {
   "hash": "28419c31780562def9a152d929746b465d0e2a100b5f6fc71845e0263b206921"
  },
  "kernelspec": {
   "display_name": "Python 3.8.8 64-bit",
   "name": "python3"
  },
  "language_info": {
   "codemirror_mode": {
    "name": "ipython",
    "version": 3
   },
   "file_extension": ".py",
   "mimetype": "text/x-python",
   "name": "python",
   "nbconvert_exporter": "python",
   "pygments_lexer": "ipython3",
   "version": "3.8.8"
  },
  "orig_nbformat": 4
 },
 "nbformat": 4,
 "nbformat_minor": 2
}